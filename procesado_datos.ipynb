{
 "cells": [
  {
   "cell_type": "code",
   "execution_count": null,
   "metadata": {},
   "outputs": [
    {
     "data": {
      "text/html": [
       "        <script type=\"text/javascript\">\n",
       "        window.PlotlyConfig = {MathJaxConfig: 'local'};\n",
       "        if (window.MathJax && window.MathJax.Hub && window.MathJax.Hub.Config) {window.MathJax.Hub.Config({SVG: {font: \"STIX-Web\"}});}\n",
       "        if (typeof require !== 'undefined') {\n",
       "        require.undef(\"plotly\");\n",
       "        requirejs.config({\n",
       "            paths: {\n",
       "                'plotly': ['https://cdn.plot.ly/plotly-2.35.2.min']\n",
       "            }\n",
       "        });\n",
       "        require(['plotly'], function(Plotly) {\n",
       "            window._Plotly = Plotly;\n",
       "        });\n",
       "        }\n",
       "        </script>\n",
       "        "
      ]
     },
     "metadata": {},
     "output_type": "display_data"
    },
    {
     "data": {
      "text/html": [
       "        <script type=\"text/javascript\">\n",
       "        window.PlotlyConfig = {MathJaxConfig: 'local'};\n",
       "        if (window.MathJax && window.MathJax.Hub && window.MathJax.Hub.Config) {window.MathJax.Hub.Config({SVG: {font: \"STIX-Web\"}});}\n",
       "        if (typeof require !== 'undefined') {\n",
       "        require.undef(\"plotly\");\n",
       "        requirejs.config({\n",
       "            paths: {\n",
       "                'plotly': ['https://cdn.plot.ly/plotly-2.35.2.min']\n",
       "            }\n",
       "        });\n",
       "        require(['plotly'], function(Plotly) {\n",
       "            window._Plotly = Plotly;\n",
       "        });\n",
       "        }\n",
       "        </script>\n",
       "        "
      ]
     },
     "metadata": {},
     "output_type": "display_data"
    }
   ],
   "source": [
    "\n",
    "import numpy as np\n",
    "import pandas as pd\n",
    "import seaborn as sns\n",
    "sns.set()\n",
    "import matplotlib.pyplot as plt\n",
    "import os\n",
    "import warnings\n",
    "warnings.simplefilter(action='ignore', category=FutureWarning)\n",
    "\n",
    "\n",
    "\n",
    "\n"
   ]
  },
  {
   "cell_type": "code",
   "execution_count": 2,
   "metadata": {},
   "outputs": [
    {
     "name": "stdout",
     "output_type": "stream",
     "text": [
      "['calendar.csv', 'listing.2.csv', 'listings.csv', 'neighbourhoods.csv', 'reviews.2.csv', 'reviews.csv']\n"
     ]
    }
   ],
   "source": [
    "print(os.listdir(\"Temario\\Modulo_2\\TASMANIA\\Data\"))"
   ]
  },
  {
   "cell_type": "code",
   "execution_count": null,
   "metadata": {},
   "outputs": [],
   "source": [
    "listings = pd.read_csv(r\"\", index_col= \"id\")\n",
    "listings_details = pd.read_csv(r\"\", index_col= \"id\", low_memory=False)\n",
    "calendar = pd.read_csv(r\"\", parse_dates=['date'], index_col=['listing_id'])\n",
    "reviews_details = pd.read_csv(r\"\", parse_dates=['date']) \n"
   ]
  },
  {
   "cell_type": "code",
   "execution_count": null,
   "metadata": {},
   "outputs": [
    {
     "name": "stdout",
     "output_type": "stream",
     "text": [
      "(6230, 17)\n"
     ]
    }
   ],
   "source": [
    "print(listings.shape)"
   ]
  },
  {
   "cell_type": "code",
   "execution_count": 5,
   "metadata": {},
   "outputs": [
    {
     "data": {
      "text/plain": [
       "Index(['name', 'host_id', 'host_name', 'neighbourhood_group', 'neighbourhood',\n",
       "       'latitude', 'longitude', 'room_type', 'price', 'minimum_nights',\n",
       "       'number_of_reviews', 'last_review', 'reviews_per_month',\n",
       "       'calculated_host_listings_count', 'availability_365',\n",
       "       'number_of_reviews_ltm', 'license'],\n",
       "      dtype='object')"
      ]
     },
     "execution_count": 5,
     "metadata": {},
     "output_type": "execute_result"
    }
   ],
   "source": [
    "listings.columns"
   ]
  },
  {
   "cell_type": "markdown",
   "metadata": {},
   "source": [
    "El archivo listados_detalles contiene un total de 96 variables. No voy a utilizar todas estas, pero sí unir selectivamente una serie de variables que me parecieron útiles para esta EDA."
   ]
  },
  {
   "cell_type": "code",
   "execution_count": 6,
   "metadata": {},
   "outputs": [
    {
     "name": "stdout",
     "output_type": "stream",
     "text": [
      "<class 'pandas.core.frame.DataFrame'>\n",
      "Index: 6230 entries, 35644 to 1236778914439262044\n",
      "Data columns (total 34 columns):\n",
      " #   Column                          Non-Null Count  Dtype  \n",
      "---  ------                          --------------  -----  \n",
      " 0   name                            6230 non-null   object \n",
      " 1   host_id                         6230 non-null   int64  \n",
      " 2   host_name                       6230 non-null   object \n",
      " 3   neighbourhood_group             0 non-null      float64\n",
      " 4   neighbourhood                   6230 non-null   object \n",
      " 5   latitude                        6230 non-null   float64\n",
      " 6   longitude                       6230 non-null   float64\n",
      " 7   room_type                       6230 non-null   object \n",
      " 8   price_x                         5513 non-null   float64\n",
      " 9   minimum_nights                  6230 non-null   int64  \n",
      " 10  number_of_reviews               6230 non-null   int64  \n",
      " 11  last_review                     5865 non-null   object \n",
      " 12  reviews_per_month               5865 non-null   float64\n",
      " 13  calculated_host_listings_count  6230 non-null   int64  \n",
      " 14  availability_365                6230 non-null   int64  \n",
      " 15  number_of_reviews_ltm           6230 non-null   int64  \n",
      " 16  license                         5927 non-null   object \n",
      " 17  property_type                   6230 non-null   object \n",
      " 18  accommodates                    6230 non-null   int64  \n",
      " 19  first_review                    5865 non-null   object \n",
      " 20  review_scores_value             5865 non-null   float64\n",
      " 21  review_scores_cleanliness       5865 non-null   float64\n",
      " 22  review_scores_location          5865 non-null   float64\n",
      " 23  review_scores_accuracy          5865 non-null   float64\n",
      " 24  review_scores_communication     5865 non-null   float64\n",
      " 25  review_scores_checkin           5865 non-null   float64\n",
      " 26  review_scores_rating            5865 non-null   float64\n",
      " 27  maximum_nights                  6230 non-null   int64  \n",
      " 28  listing_url                     6230 non-null   object \n",
      " 29  host_is_superhost               6087 non-null   object \n",
      " 30  host_about                      3757 non-null   object \n",
      " 31  host_response_time              5260 non-null   object \n",
      " 32  host_response_rate              5260 non-null   object \n",
      " 33  price_y                         5513 non-null   object \n",
      "dtypes: float64(12), int64(8), object(14)\n",
      "memory usage: 1.7+ MB\n"
     ]
    }
   ],
   "source": [
    "target_columns = [\"property_type\", \"accommodates\", \"first_review\", \"review_scores_value\", \"review_scores_cleanliness\", \"review_scores_location\", \"review_scores_accuracy\", \"review_scores_communication\", \"review_scores_checkin\", \"review_scores_rating\", \"maximum_nights\", \"listing_url\", \"host_is_superhost\", \"host_about\", \"host_response_time\", \"host_response_rate\", \"price\"]\n",
    "listings = pd.merge(listings, listings_details[target_columns], on='id', how='left')\n",
    "listings.info()"
   ]
  },
  {
   "cell_type": "code",
   "execution_count": 7,
   "metadata": {},
   "outputs": [
    {
     "data": {
      "text/plain": [
       "name                                0.000000\n",
       "host_id                             0.000000\n",
       "host_name                           0.000000\n",
       "neighbourhood_group               100.000000\n",
       "neighbourhood                       0.000000\n",
       "latitude                            0.000000\n",
       "longitude                           0.000000\n",
       "room_type                           0.000000\n",
       "price_x                            11.508828\n",
       "minimum_nights                      0.000000\n",
       "number_of_reviews                   0.000000\n",
       "last_review                         5.858748\n",
       "reviews_per_month                   5.858748\n",
       "calculated_host_listings_count      0.000000\n",
       "availability_365                    0.000000\n",
       "number_of_reviews_ltm               0.000000\n",
       "license                             4.863563\n",
       "property_type                       0.000000\n",
       "accommodates                        0.000000\n",
       "first_review                        5.858748\n",
       "review_scores_value                 5.858748\n",
       "review_scores_cleanliness           5.858748\n",
       "review_scores_location              5.858748\n",
       "review_scores_accuracy              5.858748\n",
       "review_scores_communication         5.858748\n",
       "review_scores_checkin               5.858748\n",
       "review_scores_rating                5.858748\n",
       "maximum_nights                      0.000000\n",
       "listing_url                         0.000000\n",
       "host_is_superhost                   2.295345\n",
       "host_about                         39.695024\n",
       "host_response_time                 15.569823\n",
       "host_response_rate                 15.569823\n",
       "price_y                            11.508828\n",
       "dtype: float64"
      ]
     },
     "execution_count": 7,
     "metadata": {},
     "output_type": "execute_result"
    }
   ],
   "source": [
    "listings.isnull().sum() / listings.shape[0] * 100   "
   ]
  },
  {
   "cell_type": "code",
   "execution_count": 8,
   "metadata": {},
   "outputs": [
    {
     "data": {
      "text/plain": [
       "np.int64(0)"
      ]
     },
     "execution_count": 8,
     "metadata": {},
     "output_type": "execute_result"
    }
   ],
   "source": [
    "from sklearn.impute import KNNImputer\n",
    "\n",
    "# Convertir la columna 'price_x' a numérica (eliminar símbolos de moneda y convertir a float)\n",
    "listings['price_x'] = listings['price_x'].replace('[\\$,]', '', regex=True).astype(float)\n",
    "\n",
    "# Seleccionar las columnas que se utilizarán para la imputación\n",
    "columns_for_imputation = ['price_x', 'accommodates', 'review_scores_rating']\n",
    "\n",
    "# Crear una copia del dataframe solo con las columnas seleccionadas\n",
    "listings_imputation = listings[columns_for_imputation]\n",
    "\n",
    "# Crear el imputador KNN\n",
    "imputer = KNNImputer(n_neighbors=5)\n",
    "\n",
    "# Realizar la imputación\n",
    "listings_imputed = imputer.fit_transform(listings_imputation)\n",
    "\n",
    "# Reemplazar la columna 'price_x' en el dataframe original con los valores imputados\n",
    "listings['price_x'] = listings_imputed[:, 0]\n",
    "\n",
    "# Verificar los resultados\n",
    "listings['price_x'].isnull().sum()"
   ]
  },
  {
   "cell_type": "code",
   "execution_count": null,
   "metadata": {},
   "outputs": [
    {
     "data": {
      "text/html": [
       "<div>\n",
       "<style scoped>\n",
       "    .dataframe tbody tr th:only-of-type {\n",
       "        vertical-align: middle;\n",
       "    }\n",
       "\n",
       "    .dataframe tbody tr th {\n",
       "        vertical-align: top;\n",
       "    }\n",
       "\n",
       "    .dataframe thead th {\n",
       "        text-align: right;\n",
       "    }\n",
       "</style>\n",
       "<table border=\"1\" class=\"dataframe\">\n",
       "  <thead>\n",
       "    <tr style=\"text-align: right;\">\n",
       "      <th></th>\n",
       "      <th>name</th>\n",
       "      <th>host_id</th>\n",
       "      <th>host_name</th>\n",
       "      <th>neighbourhood</th>\n",
       "      <th>latitude</th>\n",
       "      <th>longitude</th>\n",
       "      <th>room_type</th>\n",
       "      <th>price_x</th>\n",
       "      <th>minimum_nights</th>\n",
       "      <th>number_of_reviews</th>\n",
       "      <th>...</th>\n",
       "      <th>review_scores_communication</th>\n",
       "      <th>review_scores_checkin</th>\n",
       "      <th>review_scores_rating</th>\n",
       "      <th>maximum_nights</th>\n",
       "      <th>listing_url</th>\n",
       "      <th>host_is_superhost</th>\n",
       "      <th>host_about</th>\n",
       "      <th>host_response_time</th>\n",
       "      <th>host_response_rate</th>\n",
       "      <th>price_y</th>\n",
       "    </tr>\n",
       "    <tr>\n",
       "      <th>id</th>\n",
       "      <th></th>\n",
       "      <th></th>\n",
       "      <th></th>\n",
       "      <th></th>\n",
       "      <th></th>\n",
       "      <th></th>\n",
       "      <th></th>\n",
       "      <th></th>\n",
       "      <th></th>\n",
       "      <th></th>\n",
       "      <th></th>\n",
       "      <th></th>\n",
       "      <th></th>\n",
       "      <th></th>\n",
       "      <th></th>\n",
       "      <th></th>\n",
       "      <th></th>\n",
       "      <th></th>\n",
       "      <th></th>\n",
       "      <th></th>\n",
       "      <th></th>\n",
       "    </tr>\n",
       "  </thead>\n",
       "  <tbody>\n",
       "    <tr>\n",
       "      <th>35644</th>\n",
       "      <td>Central Hobart Historic Cottage</td>\n",
       "      <td>153268</td>\n",
       "      <td>Yvette</td>\n",
       "      <td>Hobart</td>\n",
       "      <td>-42.87895</td>\n",
       "      <td>147.31526</td>\n",
       "      <td>Private room</td>\n",
       "      <td>214.2</td>\n",
       "      <td>1</td>\n",
       "      <td>255</td>\n",
       "      <td>...</td>\n",
       "      <td>4.96</td>\n",
       "      <td>4.96</td>\n",
       "      <td>4.82</td>\n",
       "      <td>7</td>\n",
       "      <td>https://www.airbnb.com/rooms/35644</td>\n",
       "      <td>t</td>\n",
       "      <td>I am an adjunct Senior Lecturer at the School ...</td>\n",
       "      <td>within an hour</td>\n",
       "      <td>100.0</td>\n",
       "      <td>NaN</td>\n",
       "    </tr>\n",
       "    <tr>\n",
       "      <th>84581</th>\n",
       "      <td>Kentisbury Country House Cradle Coast Tasmania</td>\n",
       "      <td>461471</td>\n",
       "      <td>Melissa</td>\n",
       "      <td>Kentish</td>\n",
       "      <td>-41.38892</td>\n",
       "      <td>146.23196</td>\n",
       "      <td>Entire home/apt</td>\n",
       "      <td>299.0</td>\n",
       "      <td>2</td>\n",
       "      <td>135</td>\n",
       "      <td>...</td>\n",
       "      <td>4.98</td>\n",
       "      <td>4.98</td>\n",
       "      <td>4.98</td>\n",
       "      <td>90</td>\n",
       "      <td>https://www.airbnb.com/rooms/84581</td>\n",
       "      <td>t</td>\n",
       "      <td>Life revolves around family, food and operatin...</td>\n",
       "      <td>within an hour</td>\n",
       "      <td>100.0</td>\n",
       "      <td>$299.00</td>\n",
       "    </tr>\n",
       "    <tr>\n",
       "      <th>88873</th>\n",
       "      <td>Terrace- 5mins to central Hobart</td>\n",
       "      <td>485048</td>\n",
       "      <td>Russell And Ingrid</td>\n",
       "      <td>Hobart</td>\n",
       "      <td>-42.88219</td>\n",
       "      <td>147.32253</td>\n",
       "      <td>Entire home/apt</td>\n",
       "      <td>125.0</td>\n",
       "      <td>2</td>\n",
       "      <td>617</td>\n",
       "      <td>...</td>\n",
       "      <td>4.87</td>\n",
       "      <td>4.93</td>\n",
       "      <td>4.67</td>\n",
       "      <td>365</td>\n",
       "      <td>https://www.airbnb.com/rooms/88873</td>\n",
       "      <td>t</td>\n",
       "      <td>We're Russell and Ingrid.\\r\\nIngrid is a schoo...</td>\n",
       "      <td>within an hour</td>\n",
       "      <td>100.0</td>\n",
       "      <td>$125.00</td>\n",
       "    </tr>\n",
       "    <tr>\n",
       "      <th>137808</th>\n",
       "      <td>Bradman House CBD Launceston Invermay + Free WIFI</td>\n",
       "      <td>673625</td>\n",
       "      <td>Emma And Dale</td>\n",
       "      <td>Launceston</td>\n",
       "      <td>-41.42548</td>\n",
       "      <td>147.12855</td>\n",
       "      <td>Entire home/apt</td>\n",
       "      <td>239.0</td>\n",
       "      <td>1</td>\n",
       "      <td>412</td>\n",
       "      <td>...</td>\n",
       "      <td>4.68</td>\n",
       "      <td>4.82</td>\n",
       "      <td>4.53</td>\n",
       "      <td>1125</td>\n",
       "      <td>https://www.airbnb.com/rooms/137808</td>\n",
       "      <td>f</td>\n",
       "      <td>NaN</td>\n",
       "      <td>within an hour</td>\n",
       "      <td>100.0</td>\n",
       "      <td>$239.00</td>\n",
       "    </tr>\n",
       "    <tr>\n",
       "      <th>252996</th>\n",
       "      <td>Cosy Cabin @ Eagles Rise - Cradle Mountain 1 hour</td>\n",
       "      <td>1090010</td>\n",
       "      <td>Kit</td>\n",
       "      <td>Central Coast</td>\n",
       "      <td>-41.23440</td>\n",
       "      <td>146.13398</td>\n",
       "      <td>Entire home/apt</td>\n",
       "      <td>110.0</td>\n",
       "      <td>2</td>\n",
       "      <td>81</td>\n",
       "      <td>...</td>\n",
       "      <td>4.95</td>\n",
       "      <td>4.91</td>\n",
       "      <td>4.91</td>\n",
       "      <td>7</td>\n",
       "      <td>https://www.airbnb.com/rooms/252996</td>\n",
       "      <td>t</td>\n",
       "      <td>From London originally, now living here in Tas...</td>\n",
       "      <td>within an hour</td>\n",
       "      <td>100.0</td>\n",
       "      <td>$110.00</td>\n",
       "    </tr>\n",
       "  </tbody>\n",
       "</table>\n",
       "<p>5 rows × 33 columns</p>\n",
       "</div>"
      ],
      "text/plain": [
       "                                                     name  host_id  \\\n",
       "id                                                                   \n",
       "35644                     Central Hobart Historic Cottage   153268   \n",
       "84581      Kentisbury Country House Cradle Coast Tasmania   461471   \n",
       "88873                    Terrace- 5mins to central Hobart   485048   \n",
       "137808  Bradman House CBD Launceston Invermay + Free WIFI   673625   \n",
       "252996  Cosy Cabin @ Eagles Rise - Cradle Mountain 1 hour  1090010   \n",
       "\n",
       "                 host_name  neighbourhood  latitude  longitude  \\\n",
       "id                                                               \n",
       "35644               Yvette         Hobart -42.87895  147.31526   \n",
       "84581              Melissa        Kentish -41.38892  146.23196   \n",
       "88873   Russell And Ingrid         Hobart -42.88219  147.32253   \n",
       "137808       Emma And Dale     Launceston -41.42548  147.12855   \n",
       "252996                 Kit  Central Coast -41.23440  146.13398   \n",
       "\n",
       "              room_type  price_x  minimum_nights  number_of_reviews  ...  \\\n",
       "id                                                                   ...   \n",
       "35644      Private room    214.2               1                255  ...   \n",
       "84581   Entire home/apt    299.0               2                135  ...   \n",
       "88873   Entire home/apt    125.0               2                617  ...   \n",
       "137808  Entire home/apt    239.0               1                412  ...   \n",
       "252996  Entire home/apt    110.0               2                 81  ...   \n",
       "\n",
       "       review_scores_communication  review_scores_checkin  \\\n",
       "id                                                          \n",
       "35644                         4.96                   4.96   \n",
       "84581                         4.98                   4.98   \n",
       "88873                         4.87                   4.93   \n",
       "137808                        4.68                   4.82   \n",
       "252996                        4.95                   4.91   \n",
       "\n",
       "        review_scores_rating  maximum_nights  \\\n",
       "id                                             \n",
       "35644                   4.82               7   \n",
       "84581                   4.98              90   \n",
       "88873                   4.67             365   \n",
       "137808                  4.53            1125   \n",
       "252996                  4.91               7   \n",
       "\n",
       "                                listing_url host_is_superhost  \\\n",
       "id                                                              \n",
       "35644    https://www.airbnb.com/rooms/35644                 t   \n",
       "84581    https://www.airbnb.com/rooms/84581                 t   \n",
       "88873    https://www.airbnb.com/rooms/88873                 t   \n",
       "137808  https://www.airbnb.com/rooms/137808                 f   \n",
       "252996  https://www.airbnb.com/rooms/252996                 t   \n",
       "\n",
       "                                               host_about  host_response_time  \\\n",
       "id                                                                              \n",
       "35644   I am an adjunct Senior Lecturer at the School ...      within an hour   \n",
       "84581   Life revolves around family, food and operatin...      within an hour   \n",
       "88873   We're Russell and Ingrid.\\r\\nIngrid is a schoo...      within an hour   \n",
       "137808                                                NaN      within an hour   \n",
       "252996  From London originally, now living here in Tas...      within an hour   \n",
       "\n",
       "       host_response_rate  price_y  \n",
       "id                                  \n",
       "35644               100.0      NaN  \n",
       "84581               100.0  $299.00  \n",
       "88873               100.0  $125.00  \n",
       "137808              100.0  $239.00  \n",
       "252996              100.0  $110.00  \n",
       "\n",
       "[5 rows x 33 columns]"
      ]
     },
     "execution_count": 9,
     "metadata": {},
     "output_type": "execute_result"
    }
   ],
   "source": [
    "# Check if the column 'neighbourhood_group' exists before dropping it\n",
    "if 'neighbourhood_group' in listings.columns:\n",
    "\tlistings = listings.drop(columns=['neighbourhood_group'])\n",
    "\n",
    "listings['host_response_rate'] = pd.to_numeric(listings['host_response_rate'].str.strip('%'))\n",
    "listings.head()\n",
    "\n"
   ]
  },
  {
   "cell_type": "code",
   "execution_count": 10,
   "metadata": {},
   "outputs": [],
   "source": [
    "listings.to_csv('data_Tasmania.csv', index=False)"
   ]
  }
 ],
 "metadata": {
  "kernelspec": {
   "display_name": "entorno_bootcamp",
   "language": "python",
   "name": "python3"
  },
  "language_info": {
   "codemirror_mode": {
    "name": "ipython",
    "version": 3
   },
   "file_extension": ".py",
   "mimetype": "text/x-python",
   "name": "python",
   "nbconvert_exporter": "python",
   "pygments_lexer": "ipython3",
   "version": "3.10.11"
  }
 },
 "nbformat": 4,
 "nbformat_minor": 2
}
