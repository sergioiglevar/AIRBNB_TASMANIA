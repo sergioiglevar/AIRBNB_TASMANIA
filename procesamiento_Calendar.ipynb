{
 "cells": [
  {
   "cell_type": "code",
   "execution_count": null,
   "metadata": {},
   "outputs": [
    {
     "name": "stdout",
     "output_type": "stream",
     "text": [
      "         listing_id        date available    price  adjusted_price  \\\n",
      "0           8635835  2024-09-05         f  $250.00             NaN   \n",
      "1           8635835  2024-09-06         f  $250.00             NaN   \n",
      "2           8635835  2024-09-07         f  $250.00             NaN   \n",
      "3           8635835  2024-09-08         f  $250.00             NaN   \n",
      "4           8635835  2024-09-09         f  $250.00             NaN   \n",
      "...             ...         ...       ...      ...             ...   \n",
      "2273945    11104939  2025-08-31         t  $160.00             NaN   \n",
      "2273946    11104939  2025-09-01         t  $160.00             NaN   \n",
      "2273947    11104939  2025-09-02         t  $160.00             NaN   \n",
      "2273948    11104939  2025-09-03         t  $160.00             NaN   \n",
      "2273949    11104939  2025-09-04         t  $160.00             NaN   \n",
      "\n",
      "         minimum_nights  maximum_nights  \n",
      "0                     5            1125  \n",
      "1                     5            1125  \n",
      "2                     5            1125  \n",
      "3                     5            1125  \n",
      "4                     5            1125  \n",
      "...                 ...             ...  \n",
      "2273945               2            1125  \n",
      "2273946               2            1125  \n",
      "2273947               2            1125  \n",
      "2273948               2            1125  \n",
      "2273949               2            1125  \n",
      "\n",
      "[2273950 rows x 7 columns]\n"
     ]
    }
   ],
   "source": [
    "import requests\n",
    "import os\n",
    "import gzip\n",
    "import shutil\n",
    "import pandas as pd\n",
    "\n",
    "\n",
    "url = ''\n",
    "\n",
    "def download_file(url):\n",
    "    local_filename = url.split('/')[-1]\n",
    "    with requests.get(url, stream=True) as r:\n",
    "        r.raise_for_status()\n",
    "        with open(local_filename, 'wb') as f:\n",
    "            for chunk in r.iter_content(chunk_size=8192):\n",
    "                f.write(chunk)\n",
    "    return local_filename\n",
    "\n",
    "def decompress_file(file):\n",
    "    with gzip.open(file, 'rb') as f_in:\n",
    "        with open(file.replace('.gz', ''), 'wb') as f_out:\n",
    "            shutil.copyfileobj(f_in, f_out)\n",
    "\n",
    "def delete_file(file):\n",
    "    os.remove(file)\n",
    "\n",
    "def read_file(file):\n",
    "    return pd.read_csv(file)\n",
    "\n",
    "\n",
    "file = download_file(url)\n",
    "decompress_file(file)\n",
    "data = read_file(file.replace('.gz', ''))\n",
    "delete_file(file.replace('.gz', ''))\n",
    "print(data)"
   ]
  },
  {
   "cell_type": "code",
   "execution_count": 2,
   "metadata": {},
   "outputs": [],
   "source": [
    "data.to_csv('calendar.csv', index=False)"
   ]
  },
  {
   "cell_type": "code",
   "execution_count": 3,
   "metadata": {},
   "outputs": [
    {
     "data": {
      "text/html": [
       "<div>\n",
       "<style scoped>\n",
       "    .dataframe tbody tr th:only-of-type {\n",
       "        vertical-align: middle;\n",
       "    }\n",
       "\n",
       "    .dataframe tbody tr th {\n",
       "        vertical-align: top;\n",
       "    }\n",
       "\n",
       "    .dataframe thead th {\n",
       "        text-align: right;\n",
       "    }\n",
       "</style>\n",
       "<table border=\"1\" class=\"dataframe\">\n",
       "  <thead>\n",
       "    <tr style=\"text-align: right;\">\n",
       "      <th></th>\n",
       "      <th>listing_id</th>\n",
       "      <th>date</th>\n",
       "      <th>available</th>\n",
       "      <th>price</th>\n",
       "      <th>adjusted_price</th>\n",
       "      <th>minimum_nights</th>\n",
       "      <th>maximum_nights</th>\n",
       "    </tr>\n",
       "  </thead>\n",
       "  <tbody>\n",
       "    <tr>\n",
       "      <th>0</th>\n",
       "      <td>8635835</td>\n",
       "      <td>2024-09-05</td>\n",
       "      <td>f</td>\n",
       "      <td>$250.00</td>\n",
       "      <td>NaN</td>\n",
       "      <td>5</td>\n",
       "      <td>1125</td>\n",
       "    </tr>\n",
       "    <tr>\n",
       "      <th>1</th>\n",
       "      <td>8635835</td>\n",
       "      <td>2024-09-06</td>\n",
       "      <td>f</td>\n",
       "      <td>$250.00</td>\n",
       "      <td>NaN</td>\n",
       "      <td>5</td>\n",
       "      <td>1125</td>\n",
       "    </tr>\n",
       "    <tr>\n",
       "      <th>2</th>\n",
       "      <td>8635835</td>\n",
       "      <td>2024-09-07</td>\n",
       "      <td>f</td>\n",
       "      <td>$250.00</td>\n",
       "      <td>NaN</td>\n",
       "      <td>5</td>\n",
       "      <td>1125</td>\n",
       "    </tr>\n",
       "    <tr>\n",
       "      <th>3</th>\n",
       "      <td>8635835</td>\n",
       "      <td>2024-09-08</td>\n",
       "      <td>f</td>\n",
       "      <td>$250.00</td>\n",
       "      <td>NaN</td>\n",
       "      <td>5</td>\n",
       "      <td>1125</td>\n",
       "    </tr>\n",
       "    <tr>\n",
       "      <th>4</th>\n",
       "      <td>8635835</td>\n",
       "      <td>2024-09-09</td>\n",
       "      <td>f</td>\n",
       "      <td>$250.00</td>\n",
       "      <td>NaN</td>\n",
       "      <td>5</td>\n",
       "      <td>1125</td>\n",
       "    </tr>\n",
       "  </tbody>\n",
       "</table>\n",
       "</div>"
      ],
      "text/plain": [
       "   listing_id        date available    price  adjusted_price  minimum_nights  \\\n",
       "0     8635835  2024-09-05         f  $250.00             NaN               5   \n",
       "1     8635835  2024-09-06         f  $250.00             NaN               5   \n",
       "2     8635835  2024-09-07         f  $250.00             NaN               5   \n",
       "3     8635835  2024-09-08         f  $250.00             NaN               5   \n",
       "4     8635835  2024-09-09         f  $250.00             NaN               5   \n",
       "\n",
       "   maximum_nights  \n",
       "0            1125  \n",
       "1            1125  \n",
       "2            1125  \n",
       "3            1125  \n",
       "4            1125  "
      ]
     },
     "execution_count": 3,
     "metadata": {},
     "output_type": "execute_result"
    }
   ],
   "source": [
    "data.head()"
   ]
  },
  {
   "cell_type": "code",
   "execution_count": 5,
   "metadata": {},
   "outputs": [
    {
     "data": {
      "text/plain": [
       "np.int64(0)"
      ]
     },
     "execution_count": 5,
     "metadata": {},
     "output_type": "execute_result"
    }
   ],
   "source": [
    "data.duplicated().sum() "
   ]
  },
  {
   "cell_type": "code",
   "execution_count": 6,
   "metadata": {},
   "outputs": [
    {
     "data": {
      "text/plain": [
       "Index(['listing_id', 'date', 'available', 'price', 'adjusted_price',\n",
       "       'minimum_nights', 'maximum_nights'],\n",
       "      dtype='object')"
      ]
     },
     "execution_count": 6,
     "metadata": {},
     "output_type": "execute_result"
    }
   ],
   "source": [
    "data.columns"
   ]
  },
  {
   "cell_type": "markdown",
   "metadata": {},
   "source": [
    "### Descripción de las Columnas\n",
    "\n",
    "| Columna          | Descripción                                                                 |\n",
    "|------------------|-----------------------------------------------------------------------------|\n",
    "| **listing_id**   | Identificador único de la propiedad en la base de datos de Airbnb.          |\n",
    "| **date**         | Fecha específica a la que se refieren los datos de disponibilidad y precio. |\n",
    "| **available**    | Indica si la propiedad está disponible para alquilar en la fecha especificada. (t: disponible, f: no disponible) |\n",
    "| **price**        | Precio de la propiedad para la fecha especificada.                          |\n",
    "| **adjusted_price** | Precio ajustado de la propiedad, considerando descuentos o aumentos.      |\n",
    "| **minimum_nights** | Número mínimo de noches requerido para alquilar la propiedad.             |\n",
    "| **maximum_nights** | Número máximo de noches permitido para alquilar la propiedad.             |\n"
   ]
  },
  {
   "cell_type": "code",
   "execution_count": 7,
   "metadata": {},
   "outputs": [
    {
     "data": {
      "text/plain": [
       "listing_id          int64\n",
       "date               object\n",
       "available          object\n",
       "price              object\n",
       "adjusted_price    float64\n",
       "minimum_nights      int64\n",
       "maximum_nights      int64\n",
       "dtype: object"
      ]
     },
     "execution_count": 7,
     "metadata": {},
     "output_type": "execute_result"
    }
   ],
   "source": [
    "data.dtypes"
   ]
  },
  {
   "cell_type": "code",
   "execution_count": 9,
   "metadata": {},
   "outputs": [],
   "source": [
    "data.drop(['adjusted_price'], axis=1, inplace=True) "
   ]
  },
  {
   "cell_type": "code",
   "execution_count": 14,
   "metadata": {},
   "outputs": [
    {
     "data": {
      "text/html": [
       "<div>\n",
       "<style scoped>\n",
       "    .dataframe tbody tr th:only-of-type {\n",
       "        vertical-align: middle;\n",
       "    }\n",
       "\n",
       "    .dataframe tbody tr th {\n",
       "        vertical-align: top;\n",
       "    }\n",
       "\n",
       "    .dataframe thead th {\n",
       "        text-align: right;\n",
       "    }\n",
       "</style>\n",
       "<table border=\"1\" class=\"dataframe\">\n",
       "  <thead>\n",
       "    <tr style=\"text-align: right;\">\n",
       "      <th></th>\n",
       "      <th>listing_id</th>\n",
       "      <th>date</th>\n",
       "      <th>available</th>\n",
       "      <th>price</th>\n",
       "      <th>minimum_nights</th>\n",
       "      <th>maximum_nights</th>\n",
       "    </tr>\n",
       "  </thead>\n",
       "  <tbody>\n",
       "    <tr>\n",
       "      <th>0</th>\n",
       "      <td>8635835</td>\n",
       "      <td>2024-09-05</td>\n",
       "      <td>f</td>\n",
       "      <td>$250.00</td>\n",
       "      <td>5</td>\n",
       "      <td>1125</td>\n",
       "    </tr>\n",
       "    <tr>\n",
       "      <th>1</th>\n",
       "      <td>8635835</td>\n",
       "      <td>2024-09-06</td>\n",
       "      <td>f</td>\n",
       "      <td>$250.00</td>\n",
       "      <td>5</td>\n",
       "      <td>1125</td>\n",
       "    </tr>\n",
       "    <tr>\n",
       "      <th>2</th>\n",
       "      <td>8635835</td>\n",
       "      <td>2024-09-07</td>\n",
       "      <td>f</td>\n",
       "      <td>$250.00</td>\n",
       "      <td>5</td>\n",
       "      <td>1125</td>\n",
       "    </tr>\n",
       "    <tr>\n",
       "      <th>3</th>\n",
       "      <td>8635835</td>\n",
       "      <td>2024-09-08</td>\n",
       "      <td>f</td>\n",
       "      <td>$250.00</td>\n",
       "      <td>5</td>\n",
       "      <td>1125</td>\n",
       "    </tr>\n",
       "    <tr>\n",
       "      <th>4</th>\n",
       "      <td>8635835</td>\n",
       "      <td>2024-09-09</td>\n",
       "      <td>f</td>\n",
       "      <td>$250.00</td>\n",
       "      <td>5</td>\n",
       "      <td>1125</td>\n",
       "    </tr>\n",
       "  </tbody>\n",
       "</table>\n",
       "</div>"
      ],
      "text/plain": [
       "   listing_id        date available    price  minimum_nights  maximum_nights\n",
       "0     8635835  2024-09-05         f  $250.00               5            1125\n",
       "1     8635835  2024-09-06         f  $250.00               5            1125\n",
       "2     8635835  2024-09-07         f  $250.00               5            1125\n",
       "3     8635835  2024-09-08         f  $250.00               5            1125\n",
       "4     8635835  2024-09-09         f  $250.00               5            1125"
      ]
     },
     "execution_count": 14,
     "metadata": {},
     "output_type": "execute_result"
    }
   ],
   "source": [
    "data.head()"
   ]
  },
  {
   "cell_type": "code",
   "execution_count": 18,
   "metadata": {},
   "outputs": [
    {
     "data": {
      "text/plain": [
       "listing_id        0.0\n",
       "date              0.0\n",
       "available         0.0\n",
       "price             0.0\n",
       "minimum_nights    0.0\n",
       "maximum_nights    0.0\n",
       "dtype: float64"
      ]
     },
     "execution_count": 18,
     "metadata": {},
     "output_type": "execute_result"
    }
   ],
   "source": [
    "data.isnull().sum() / data.shape[0]*100"
   ]
  },
  {
   "cell_type": "code",
   "execution_count": 20,
   "metadata": {},
   "outputs": [
    {
     "data": {
      "text/plain": [
       "listing_id         int64\n",
       "date              object\n",
       "available           bool\n",
       "price             object\n",
       "minimum_nights     int64\n",
       "maximum_nights     int64\n",
       "dtype: object"
      ]
     },
     "execution_count": 20,
     "metadata": {},
     "output_type": "execute_result"
    }
   ],
   "source": [
    "data['available'] = data['available'].map({'t': True, 'f': False})\n",
    "data.dtypes"
   ]
  },
  {
   "cell_type": "code",
   "execution_count": 22,
   "metadata": {},
   "outputs": [
    {
     "data": {
      "text/html": [
       "<div>\n",
       "<style scoped>\n",
       "    .dataframe tbody tr th:only-of-type {\n",
       "        vertical-align: middle;\n",
       "    }\n",
       "\n",
       "    .dataframe tbody tr th {\n",
       "        vertical-align: top;\n",
       "    }\n",
       "\n",
       "    .dataframe thead th {\n",
       "        text-align: right;\n",
       "    }\n",
       "</style>\n",
       "<table border=\"1\" class=\"dataframe\">\n",
       "  <thead>\n",
       "    <tr style=\"text-align: right;\">\n",
       "      <th></th>\n",
       "      <th>listing_id</th>\n",
       "      <th>date</th>\n",
       "      <th>available</th>\n",
       "      <th>price</th>\n",
       "      <th>minimum_nights</th>\n",
       "      <th>maximum_nights</th>\n",
       "    </tr>\n",
       "  </thead>\n",
       "  <tbody>\n",
       "    <tr>\n",
       "      <th>0</th>\n",
       "      <td>8635835</td>\n",
       "      <td>2024-09-05</td>\n",
       "      <td>False</td>\n",
       "      <td>$250.00</td>\n",
       "      <td>5</td>\n",
       "      <td>1125</td>\n",
       "    </tr>\n",
       "    <tr>\n",
       "      <th>1</th>\n",
       "      <td>8635835</td>\n",
       "      <td>2024-09-06</td>\n",
       "      <td>False</td>\n",
       "      <td>$250.00</td>\n",
       "      <td>5</td>\n",
       "      <td>1125</td>\n",
       "    </tr>\n",
       "    <tr>\n",
       "      <th>2</th>\n",
       "      <td>8635835</td>\n",
       "      <td>2024-09-07</td>\n",
       "      <td>False</td>\n",
       "      <td>$250.00</td>\n",
       "      <td>5</td>\n",
       "      <td>1125</td>\n",
       "    </tr>\n",
       "    <tr>\n",
       "      <th>3</th>\n",
       "      <td>8635835</td>\n",
       "      <td>2024-09-08</td>\n",
       "      <td>False</td>\n",
       "      <td>$250.00</td>\n",
       "      <td>5</td>\n",
       "      <td>1125</td>\n",
       "    </tr>\n",
       "    <tr>\n",
       "      <th>4</th>\n",
       "      <td>8635835</td>\n",
       "      <td>2024-09-09</td>\n",
       "      <td>False</td>\n",
       "      <td>$250.00</td>\n",
       "      <td>5</td>\n",
       "      <td>1125</td>\n",
       "    </tr>\n",
       "  </tbody>\n",
       "</table>\n",
       "</div>"
      ],
      "text/plain": [
       "   listing_id        date  available    price  minimum_nights  maximum_nights\n",
       "0     8635835  2024-09-05      False  $250.00               5            1125\n",
       "1     8635835  2024-09-06      False  $250.00               5            1125\n",
       "2     8635835  2024-09-07      False  $250.00               5            1125\n",
       "3     8635835  2024-09-08      False  $250.00               5            1125\n",
       "4     8635835  2024-09-09      False  $250.00               5            1125"
      ]
     },
     "execution_count": 22,
     "metadata": {},
     "output_type": "execute_result"
    }
   ],
   "source": [
    "data.head()"
   ]
  },
  {
   "cell_type": "code",
   "execution_count": 23,
   "metadata": {},
   "outputs": [],
   "source": [
    "data.to_csv('calendar.csv', index=False)"
   ]
  }
 ],
 "metadata": {
  "kernelspec": {
   "display_name": "entorno_bootcamp",
   "language": "python",
   "name": "python3"
  },
  "language_info": {
   "codemirror_mode": {
    "name": "ipython",
    "version": 3
   },
   "file_extension": ".py",
   "mimetype": "text/x-python",
   "name": "python",
   "nbconvert_exporter": "python",
   "pygments_lexer": "ipython3",
   "version": "3.10.11"
  }
 },
 "nbformat": 4,
 "nbformat_minor": 2
}
